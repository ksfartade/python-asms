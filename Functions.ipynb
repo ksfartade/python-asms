{
  "nbformat": 4,
  "nbformat_minor": 0,
  "metadata": {
    "colab": {
      "provenance": []
    },
    "kernelspec": {
      "name": "python3",
      "display_name": "Python 3"
    },
    "language_info": {
      "name": "python"
    }
  },
  "cells": [
    {
      "cell_type": "markdown",
      "source": [
        "1. What is the difference between a function and a method in Python?\n",
        "- Functions are the independant block of reusable code which can be executed by calling that function. Methods are the also the reusable block of code but inside the class. So to use method we have to create the class object and then access it.\n",
        "Example:\n",
        "function_sum(1, 2)\n",
        "\n",
        "class_obj.function_sum(1, 2)\n",
        "\n",
        "2. Explain the concept of function arguments and parameters in Python.\n",
        "- Parameters are the values defined in function input values and arguments are the values passed to the function while calling.\n",
        "Example:\n",
        "def fun(a, b):   // a, b are parameters\n",
        "  pass\n",
        "\n",
        "fun(1, 2)  // 1, 2 are arguments\n",
        "\n",
        "3. What are the different ways to define and call a function in Python?\n",
        "- 1. function with parameters:\n",
        "    def csum(a, b):\n",
        "      return a+b\n",
        "    csum(1,2)\n",
        "  2. function with variable parameters:\n",
        "    def csum(*args, **kwargs):\n",
        "      return sum(args)+sum(kwargs.values())\n",
        "    dsum(1, 2, 3, a = 5, b=6)\n",
        "  3. lambda functions:\n",
        "    csum = lambda a, b: a+b\n",
        "    print(csum(2, 3))\n",
        "  \n",
        "4. What is the purpose of the `return` statement in a Python function?\n",
        "- To return something from the function in response.\n",
        "Example:\n",
        "def csum(a, b):\n",
        "  return a+b\n",
        "\n",
        "\n",
        "5. What are iterators in Python and how do they differ from iterables?\n",
        "- Iterables are the objects or data structures in python used to store the data and they can be iterated orver it using loops. Like for, while loop.\n",
        "Iterators are the object which are used to generate one value at a time and implements __iter__().\n",
        "Example: iterator = iter([1, 2, 3])\n",
        "\n",
        "\n",
        "6. Explain the concept of generators in Python and how they are defined.\n",
        "- Generators is the type of iterator which generatos value one by one in efficient way means only when requested.\n",
        "we can use yield keyword to return value one by one form a function.\n",
        "def count(n):\n",
        "  for i in range(n):\n",
        "    yield i\n",
        "  \n",
        "7. What are the advantages of using generators over regular functions?\n",
        "- Generators are the lazy evalution data structure. Function execte and return value at once. Using Gnerator we can reduce unwanted computations.\n",
        "\n",
        "\n",
        "8. What is a lambda function in Python and when is it typically used?\n",
        "- It ia a way of defining function which has only one line of instructions.\n",
        "Example: csum = lambda a, b: a+b\n",
        "\n",
        "9. Explain the purpose and usage of the `map()` function in Python.\n",
        "- It is used to apply any function on each element from the iterable.\n",
        "Example: roots = map(lambda x: sqrt(x), [1, 2, 4, 9])\n",
        "\n",
        "\n",
        "10. What is the difference between `map()`, `reduce()`, and `filter()` functions in Python?\n",
        "- Map is used to apply any function on each value of iterable.\n",
        " Reduce is used to collection the single value from the list as a result of some operation.\n",
        " filter is used to create new iterable by selecting the items who are valid based on filter condition.\n",
        "\n",
        "\n",
        " 11. Using pen & Paper write the internal mechanism for sum operation using  reduce function on this given\n",
        "list:[47,11,42,13];\n",
        "- sum = reduce(lambda x, y: x+y, [47, 11, 42, 13])"
      ],
      "metadata": {
        "id": "zyrCsprMBySu"
      }
    },
    {
      "cell_type": "markdown",
      "source": [
        "# Practical Questions"
      ],
      "metadata": {
        "id": "huznLzTJJeG_"
      }
    },
    {
      "cell_type": "code",
      "source": [
        "# 1. Write a Python function that takes a list of numbers as input and returns the sum of all even numbers in the list.\n",
        "\n",
        "from functools import reduce\n",
        "data = input(\"Enter the list values as space seperated\")\n",
        "data = data.split()\n",
        "\n",
        "total = reduce(lambda sum, x: int(sum) + int(x), data)\n",
        "print(\"Total sum: \", total)\n"
      ],
      "metadata": {
        "colab": {
          "base_uri": "https://localhost:8080/"
        },
        "id": "IWg_tjXKJdxO",
        "outputId": "29f6fcee-db58-4afa-e0f4-83eff7e08630"
      },
      "execution_count": null,
      "outputs": [
        {
          "output_type": "stream",
          "name": "stdout",
          "text": [
            "Enter the list values as space seperated23 23\n",
            "Total sum:  46\n"
          ]
        }
      ]
    },
    {
      "cell_type": "code",
      "source": [
        "# 2. Create a Python function that accepts a string and returns the reverse of that string.\n",
        "st = input(\"Input your name\")\n",
        "rs = st[::-1]\n",
        "\n",
        "print(rs)"
      ],
      "metadata": {
        "colab": {
          "base_uri": "https://localhost:8080/"
        },
        "id": "GIL-ILcgJbvS",
        "outputId": "fe163aa8-c042-4a63-d5b7-338f9536c873"
      },
      "execution_count": null,
      "outputs": [
        {
          "output_type": "stream",
          "name": "stdout",
          "text": [
            "Input your nameYoyo\n",
            "oyoY\n"
          ]
        }
      ]
    },
    {
      "cell_type": "code",
      "source": [
        "# 3. Implement a Python function that takes a list of integers and returns a new list containing the squares of each number.\n",
        "\n",
        "data = [1, 2, 3, 4, 5]\n",
        "data = map(lambda x: x*x, data)\n",
        "\n",
        "print(\"Squared: \", list(data))\n",
        "\n"
      ],
      "metadata": {
        "colab": {
          "base_uri": "https://localhost:8080/"
        },
        "id": "g4ngPNEQLDRP",
        "outputId": "41c53cab-a986-4a21-90f1-905c76ae7ed7"
      },
      "execution_count": null,
      "outputs": [
        {
          "output_type": "stream",
          "name": "stdout",
          "text": [
            "Squared:  [1, 4, 9, 16, 25]\n"
          ]
        }
      ]
    },
    {
      "cell_type": "code",
      "source": [
        "# 4. Write a Python function that checks if a given number is prime or not from 1 to 200.\n",
        "\n",
        "\n",
        "import math\n",
        "\n",
        "a = 130\n",
        "\n",
        "def is_prime(a):\n",
        "  for i in range(2, int(math.sqrt(13))+1):\n",
        "    if a % i == 0:\n",
        "      return False\n",
        "    else:\n",
        "      return True\n",
        "\n",
        "if is_prime(a):\n",
        "  print(\"Prime number\")\n",
        "else:\n",
        "  print(\"Not a prime number\")"
      ],
      "metadata": {
        "colab": {
          "base_uri": "https://localhost:8080/"
        },
        "id": "MX_lL5SdL2mA",
        "outputId": "f52bded6-16d2-499e-e779-13cb930551a9"
      },
      "execution_count": null,
      "outputs": [
        {
          "output_type": "stream",
          "name": "stdout",
          "text": [
            "Not a prime number\n"
          ]
        }
      ]
    },
    {
      "cell_type": "code",
      "source": [
        "# 5. Create an iterator class in Python that generates the Fibonacci sequence up to a specified number of terms.\n",
        "\n",
        "class Fibo:\n",
        "  def __init__(self, end):\n",
        "    self.end = end\n",
        "    self.current = 1\n",
        "    self.prev = 0\n",
        "\n",
        "  def __iter__(self):\n",
        "    return self\n",
        "\n",
        "  def __next__(self):\n",
        "    if self.current > self.end:\n",
        "      raise StopIteration\n",
        "\n",
        "    num = self.prev + self.current\n",
        "    self.prev = self.current\n",
        "    self.current = num\n",
        "    return num\n",
        "\n",
        "fibo = Fibo(20)\n",
        "\n",
        "for i in fibo:\n",
        "  print(i)\n",
        "\n",
        "\n"
      ],
      "metadata": {
        "id": "F1qPpYWLNTt5",
        "colab": {
          "base_uri": "https://localhost:8080/"
        },
        "outputId": "1c56a12a-f5c3-42e1-f44d-3bccb7c3722f"
      },
      "execution_count": null,
      "outputs": [
        {
          "output_type": "stream",
          "name": "stdout",
          "text": [
            "1\n",
            "2\n",
            "3\n",
            "5\n",
            "8\n",
            "13\n",
            "21\n"
          ]
        }
      ]
    },
    {
      "cell_type": "code",
      "source": [
        "#6. Write a generator function in Python that yields the powers of 2 up to a given exponent.\n",
        "def pow2(n):\n",
        "  res = 1\n",
        "  for i in range(n):\n",
        "    res *= 2\n",
        "    yield res\n",
        "\n",
        "\n",
        "power = pow2(5)\n",
        "for value in power:\n",
        "  print(\"2 power= \", value)\n",
        "\n",
        "\n"
      ],
      "metadata": {
        "id": "1ILsn4LMTUNT",
        "colab": {
          "base_uri": "https://localhost:8080/"
        },
        "outputId": "0beefe87-f34d-4124-d1a3-5942d83530e9"
      },
      "execution_count": 2,
      "outputs": [
        {
          "output_type": "stream",
          "name": "stdout",
          "text": [
            "2 power=  2\n",
            "2 power=  4\n",
            "2 power=  8\n",
            "2 power=  16\n",
            "2 power=  32\n"
          ]
        }
      ]
    },
    {
      "cell_type": "code",
      "source": [
        "# 7. Implement a generator function that reads a file line by line and yields each line as a string.\n",
        "\n",
        "def read_file():\n",
        "  with open('/content/sample_data/README.md', 'r') as file:\n",
        "    for line in file:\n",
        "      yield line\n",
        "\n",
        "\n",
        "for line in read_file():\n",
        "  print(\"Getting line...\")\n",
        "  print(line)\n",
        "\n"
      ],
      "metadata": {
        "colab": {
          "base_uri": "https://localhost:8080/"
        },
        "id": "zdzzGwUS0b8z",
        "outputId": "771b8c8b-f707-4d7f-b05b-8713cf2c364b"
      },
      "execution_count": 5,
      "outputs": [
        {
          "output_type": "stream",
          "name": "stdout",
          "text": [
            "Getting line...\n",
            "This directory includes a few sample datasets to get you started.\n",
            "\n",
            "Getting line...\n",
            "\n",
            "\n",
            "Getting line...\n",
            "*   `california_housing_data*.csv` is California housing data from the 1990 US\n",
            "\n",
            "Getting line...\n",
            "    Census; more information is available at:\n",
            "\n",
            "Getting line...\n",
            "    https://docs.google.com/document/d/e/2PACX-1vRhYtsvc5eOR2FWNCwaBiKL6suIOrxJig8LcSBbmCbyYsayia_DvPOOBlXZ4CAlQ5nlDD8kTaIDRwrN/pub\n",
            "\n",
            "Getting line...\n",
            "\n",
            "\n",
            "Getting line...\n",
            "*   `mnist_*.csv` is a small sample of the\n",
            "\n",
            "Getting line...\n",
            "    [MNIST database](https://en.wikipedia.org/wiki/MNIST_database), which is\n",
            "\n",
            "Getting line...\n",
            "    described at: http://yann.lecun.com/exdb/mnist/\n",
            "\n",
            "Getting line...\n",
            "\n",
            "\n",
            "Getting line...\n",
            "*   `anscombe.json` contains a copy of\n",
            "\n",
            "Getting line...\n",
            "    [Anscombe's quartet](https://en.wikipedia.org/wiki/Anscombe%27s_quartet); it\n",
            "\n",
            "Getting line...\n",
            "    was originally described in\n",
            "\n",
            "Getting line...\n",
            "\n",
            "\n",
            "Getting line...\n",
            "    Anscombe, F. J. (1973). 'Graphs in Statistical Analysis'. American\n",
            "\n",
            "Getting line...\n",
            "    Statistician. 27 (1): 17-21. JSTOR 2682899.\n",
            "\n",
            "Getting line...\n",
            "\n",
            "\n",
            "Getting line...\n",
            "    and our copy was prepared by the\n",
            "\n",
            "Getting line...\n",
            "    [vega_datasets library](https://github.com/altair-viz/vega_datasets/blob/4f67bdaad10f45e3549984e17e1b3088c731503d/vega_datasets/_data/anscombe.json).\n",
            "\n"
          ]
        }
      ]
    },
    {
      "cell_type": "code",
      "source": [
        "# 8. Use a lambda function in Python to sort a list of tuples based on the second element of each tuple.\n",
        "\n",
        "data = [(1, 2, 3), (1, 1), (3, 4, 5), (0, 0, 0), (8, 5, 7)]\n",
        "\n",
        "data.sort(key = lambda x: x[1])\n",
        "\n",
        "print(data)\n",
        "\n"
      ],
      "metadata": {
        "colab": {
          "base_uri": "https://localhost:8080/"
        },
        "id": "Di4Y8yzT1P_n",
        "outputId": "7d371108-b766-4a77-c523-057b4bb941f4"
      },
      "execution_count": 10,
      "outputs": [
        {
          "output_type": "stream",
          "name": "stdout",
          "text": [
            "[(0, 0, 0), (1, 1), (1, 2, 3), (3, 4, 5), (8, 5, 7)]\n"
          ]
        }
      ]
    },
    {
      "cell_type": "code",
      "source": [
        "# 9. Write a Python program that uses `map()` to convert a list of temperatures from Celsius to Fahrenheit.\n",
        "\n",
        "data = list(range(10))\n",
        "\n",
        "data = map(lambda x: (x*9/5) + 32, data)\n",
        "print(list(data))\n",
        "\n"
      ],
      "metadata": {
        "colab": {
          "base_uri": "https://localhost:8080/"
        },
        "id": "ID-0FV2v2qBc",
        "outputId": "6a2e5cfe-7466-4bce-b489-94645f6e15c8"
      },
      "execution_count": 15,
      "outputs": [
        {
          "output_type": "stream",
          "name": "stdout",
          "text": [
            "[32.0, 33.8, 35.6, 37.4, 39.2, 41.0, 42.8, 44.6, 46.4, 48.2]\n"
          ]
        }
      ]
    },
    {
      "cell_type": "code",
      "source": [
        "# 10. Create a Python program that uses `filter()` to remove all the vowels from a given string.\n",
        "\n",
        "ori = \"My name Is munna bhai\"\n",
        "\n",
        "res = filter(lambda x: x.lower() not in ['a', 'e', 'i', 'o', 'u'], ori)\n",
        "\n",
        "print(\"\".join(list(res)))\n",
        "\n"
      ],
      "metadata": {
        "colab": {
          "base_uri": "https://localhost:8080/"
        },
        "id": "acVhIeJ53W0K",
        "outputId": "f34401aa-2931-4095-cf94-2a63aa81c281"
      },
      "execution_count": 21,
      "outputs": [
        {
          "output_type": "stream",
          "name": "stdout",
          "text": [
            "My nm s mnn bh\n"
          ]
        }
      ]
    },
    {
      "cell_type": "code",
      "source": [
        "# 11) Imagine an accounting routine used in a book shop. It works on a list with sublists, which look like this:\n",
        "\n",
        "book_orders = [\n",
        "    {\n",
        "        \"Order_Number\": 34587,\n",
        "        \"Book_Title_and_Author\": \"Learn Python, Mark Lutz\",\n",
        "        \"Quantity\": 4,\n",
        "        \"Price_per_Item\": 40.95\n",
        "    },\n",
        "    {\n",
        "        \"Order_Number\": 98762,\n",
        "        \"Book_Title_and_Author\": \"Programming Python, Mark Lutz\",\n",
        "        \"Quantity\": 5,\n",
        "        \"Price_per_Item\": 56.80\n",
        "    },\n",
        "    {\n",
        "        \"Order_Number\": 77226,\n",
        "        \"Book_Title_and_Author\": \"Head First Python, Paul Barry\",\n",
        "        \"Quantity\": 3,\n",
        "        \"Price_per_Item\": 32.95\n",
        "    },\n",
        "    {\n",
        "        \"Order_Number\": 88112,\n",
        "        \"Book_Title_and_Author\": \"Einführung in Python3, Bernd Klein\",\n",
        "        \"Quantity\": 3,\n",
        "        \"Price_per_Item\": 24.99\n",
        "    }\n",
        "]\n",
        "\n",
        "\n",
        "res = map(lambda x: (x['Order_Number'], x['Quantity']*x['Price_per_Item']+(10 if x['Quantity']*x['Price_per_Item']<10000 else 0)), book_orders)\n",
        "\n",
        "print(list(res))\n",
        "\n"
      ],
      "metadata": {
        "colab": {
          "base_uri": "https://localhost:8080/"
        },
        "id": "FziXOyAw8Wpr",
        "outputId": "455b66f8-f5e0-48b0-9073-176b75ada32e"
      },
      "execution_count": 31,
      "outputs": [
        {
          "output_type": "stream",
          "name": "stdout",
          "text": [
            "[(34587, 173.8), (98762, 294.0), (77226, 108.85000000000001), (88112, 84.97)]\n"
          ]
        }
      ]
    }
  ]
}