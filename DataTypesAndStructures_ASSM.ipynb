{
  "nbformat": 4,
  "nbformat_minor": 0,
  "metadata": {
    "colab": {
      "provenance": []
    },
    "kernelspec": {
      "name": "python3",
      "display_name": "Python 3"
    },
    "language_info": {
      "name": "python"
    }
  },
  "cells": [
    {
      "cell_type": "markdown",
      "source": [
        "# Data Types and Structures Questions\n",
        "\n",
        "1. What are data structures, and why are they important?\n",
        "- Data structures are the way to store and organise the data. It plays crusial role in programming languages. Because as per requirement we need different type of data storage means data structures.\n",
        "\n",
        "2. Explain the difference between mutable and immutable data types with examples ?\n",
        "- Mutable data types mean they can be updated after declaration. Like list dict. Immutable means once declared we can't update them, either delete or create another copy. Like String, tuple.\n",
        "\n",
        "3. What are the main differences between lists and tuples in Python?\n",
        "- Lists are mutable and tuples are immutable.\n",
        "\n",
        "4. Describe how dictionaries store data?\n",
        "- Dictionary in python stores data in key-value pair format. Keys are unique valuess.\n",
        "\n",
        "5. Why might you use a set instead of a list in Python ?\n",
        "- Set are used when we need to store the unique values. Set uses hashing technique so that searching in set is faster than list.\n",
        "\n",
        "6. What is a string in Python, and how is it different from a list ?\n",
        "- String in python stores the groups of characters data. It is immutable. list is mutable.\n",
        "\n",
        "7. How do tuples ensure data integrity in Python ?\n",
        "- tuples are immutable, means once created no-one can chanage its data.\n",
        "\n",
        "8. What is a hash table, and how does it relate to dictionaries in Python?\n",
        "- hash table uses hashing technique to store the values, dictionary in python uses same techinque to the keys.\n",
        "\n",
        "9.  Can lists contain different data types in Python ?\n",
        "- yes. lists contains different data types.\n",
        "\n",
        "10.  Explain why strings are immutable in Python ?\n",
        "- To ensure safety, allow hashebility and improve memory optimization.\n",
        "\n",
        "11. What advantages do dictionaries offer over lists for certain tasks?\n",
        "- no duplicate key, easy and quick searching of key.\n",
        "\n",
        "12. Describe a scenario where using a tuple would be preferable over a list ?\n",
        "- if we want to store password details which should not be allowed to udpate once created. Either delte or create new one. Store the keys in dictionary.\n",
        "\n",
        "13. How do sets handle duplicate values in Python ?\n",
        "- sets uses hashing to store values. So if same hash value comes it ignore it.\n",
        "\n",
        "14. How does the “in” keyword work differently for lists and dictionaries ?\n",
        "- In checks the presence of value in list with linear search, while in in dictionary check the presence of key in constant time.\n",
        "\n",
        "15. Can you modify the elements of a tuple? Explain why or why not ?\n",
        "- No, we can't modify tuple elements. Tuple are immutable.\n",
        "\n",
        "16. What is a nested dictionary, and give an example of its use case ?\n",
        "- Nested dictionary means dictionary inside another dictionary value. Example: If we want to store the complex data or connected data like students details where key is student id and value is dictionary of details.\n",
        "\n",
        "17. Describe the time complexity of accessing elements in a dictionary ?\n",
        "- O(1). Constant time because of hashing.\n",
        "\n",
        "18. In what situations are lists preferred over dictionaries ?\n",
        "- if we want to store the serial data like numeric values which are independant of others. list of prime numbers from 1 to 100.\n",
        "\n",
        "19. Why are dictionaries considered unordered, and how does that affect data retrieval ?\n",
        "- dictionaries were unordered because they were storing data without the proper insertion order. But in current version of it, they are ordered.\n",
        "\n",
        "20. Explain the difference between a list and a dictionary in terms of data retrieval ?\n",
        "- list data retrieval happends in linear search but in dictionary it happens in constant time. list data can be retreived using index and in dictionary value is accessed using the associated key with it.\n"
      ],
      "metadata": {
        "id": "wbEthMXCmCcH"
      }
    },
    {
      "cell_type": "markdown",
      "source": [
        "# Practical Questions."
      ],
      "metadata": {
        "id": "8oUKuJpPxAhU"
      }
    },
    {
      "cell_type": "code",
      "source": [
        "# 1. Write a code to create a string with your name and print it ?\n",
        "name = \"kiran\"\n",
        "print(name)"
      ],
      "metadata": {
        "colab": {
          "base_uri": "https://localhost:8080/"
        },
        "id": "-gfAXdu9w9yI",
        "outputId": "c0a852ce-9a04-44a5-c28d-4c964512ec91"
      },
      "execution_count": 1,
      "outputs": [
        {
          "output_type": "stream",
          "name": "stdout",
          "text": [
            "kiran\n"
          ]
        }
      ]
    },
    {
      "cell_type": "code",
      "source": [
        "# 2. Write a code to find the length of the string \"Hello World\"?\n",
        "string = \"Hello World\"\n",
        "print(len(string))"
      ],
      "metadata": {
        "colab": {
          "base_uri": "https://localhost:8080/"
        },
        "id": "APX0uL5TxQk5",
        "outputId": "4cafa708-3f57-4f4f-f9c3-76812c963290"
      },
      "execution_count": 2,
      "outputs": [
        {
          "output_type": "stream",
          "name": "stdout",
          "text": [
            "11\n"
          ]
        }
      ]
    },
    {
      "cell_type": "code",
      "source": [
        "# 3. Write a code to slice the first 3 characters from the string \"Python Programming\"\n",
        "string = \"Python Programming\"\n",
        "print(string[:3])"
      ],
      "metadata": {
        "colab": {
          "base_uri": "https://localhost:8080/"
        },
        "id": "3dWwELv7xaAW",
        "outputId": "4a6ca17d-a29a-492e-f4d5-9637031295a0"
      },
      "execution_count": 3,
      "outputs": [
        {
          "output_type": "stream",
          "name": "stdout",
          "text": [
            "Pyt\n"
          ]
        }
      ]
    },
    {
      "cell_type": "code",
      "source": [
        "# 4. Write a code to convert the string \"hello\" to uppercase\n",
        "word = \"hello\"\n",
        "print(word.upper())"
      ],
      "metadata": {
        "colab": {
          "base_uri": "https://localhost:8080/"
        },
        "id": "VRCCCOKOxd_G",
        "outputId": "5d8e19d3-4b93-4fa9-a606-5627f5dc7b28"
      },
      "execution_count": 4,
      "outputs": [
        {
          "output_type": "stream",
          "name": "stdout",
          "text": [
            "HELLO\n"
          ]
        }
      ]
    },
    {
      "cell_type": "code",
      "source": [
        "# 5. Write a code to replace the word \"apple\" with \"orange\" in the string \"I like apple\"\n",
        "sen = \"I like apple\"\n",
        "sen = sen.replace(\"apple\", \"orange\")\n",
        "print(sen)"
      ],
      "metadata": {
        "colab": {
          "base_uri": "https://localhost:8080/"
        },
        "id": "-Wch3V5hxle-",
        "outputId": "86948296-7906-403e-c373-80d453351450"
      },
      "execution_count": 6,
      "outputs": [
        {
          "output_type": "stream",
          "name": "stdout",
          "text": [
            "I like orange\n"
          ]
        }
      ]
    },
    {
      "cell_type": "code",
      "source": [
        "# 6. Write a code to create a list with numbers 1 to 5 and print it\n",
        "lst = list(range(1, 5))\n",
        "print(lst)"
      ],
      "metadata": {
        "colab": {
          "base_uri": "https://localhost:8080/"
        },
        "id": "SEmS6FwHxvPU",
        "outputId": "98edbf7b-a0ab-42ed-dedb-c983f14e66fb"
      },
      "execution_count": 8,
      "outputs": [
        {
          "output_type": "stream",
          "name": "stdout",
          "text": [
            "[1, 2, 3, 4]\n"
          ]
        }
      ]
    },
    {
      "cell_type": "code",
      "source": [
        "# 7. Write a code to append the number 10 to the list [1, 2, 3, 4]\n",
        "lst = [1, 2, 3, 4]\n",
        "lst.append(10)\n",
        "print(lst)"
      ],
      "metadata": {
        "colab": {
          "base_uri": "https://localhost:8080/"
        },
        "id": "Zp5vE897x5lO",
        "outputId": "42a7145e-4be4-4493-9d85-37fabef21d29"
      },
      "execution_count": 9,
      "outputs": [
        {
          "output_type": "stream",
          "name": "stdout",
          "text": [
            "[1, 2, 3, 4, 10]\n"
          ]
        }
      ]
    },
    {
      "cell_type": "code",
      "source": [
        "# 8. Write a code to remove the number 3 from the list [1, 2, 3, 4, 5]\n",
        "lst = [1, 2, 3, 4, 5]\n",
        "lst.remove(3)\n",
        "print(lst)"
      ],
      "metadata": {
        "colab": {
          "base_uri": "https://localhost:8080/"
        },
        "id": "OI1Xf7hFyFJ4",
        "outputId": "e138256e-fc49-46fe-c47e-fa77032ef3ef"
      },
      "execution_count": 10,
      "outputs": [
        {
          "output_type": "stream",
          "name": "stdout",
          "text": [
            "[1, 2, 4, 5]\n"
          ]
        }
      ]
    },
    {
      "cell_type": "code",
      "source": [
        "# 9. Write a code to access the second element in the list ['a', 'b', 'c', 'd']\n",
        "lst = ['a', 'b', 'c', 'd']\n",
        "print(lst[1])"
      ],
      "metadata": {
        "colab": {
          "base_uri": "https://localhost:8080/"
        },
        "id": "lxtzkGm2yMof",
        "outputId": "42a896bd-2870-42a4-d49f-82fbba3501d9"
      },
      "execution_count": 11,
      "outputs": [
        {
          "output_type": "stream",
          "name": "stdout",
          "text": [
            "b\n"
          ]
        }
      ]
    },
    {
      "cell_type": "code",
      "source": [
        "# 10. Write a code to reverse the list [10, 20, 30, 40, 50]\n",
        "lst = [10, 20, 30, 40, 50]\n",
        "lst.reverse()\n",
        "print(lst)"
      ],
      "metadata": {
        "colab": {
          "base_uri": "https://localhost:8080/"
        },
        "id": "ONxmW_ooygCV",
        "outputId": "b747ab67-acbe-45f4-f4b0-2eda4a212e25"
      },
      "execution_count": 12,
      "outputs": [
        {
          "output_type": "stream",
          "name": "stdout",
          "text": [
            "[50, 40, 30, 20, 10]\n"
          ]
        }
      ]
    },
    {
      "cell_type": "code",
      "source": [
        "# 11. Write a code to create a tuple with the elements 100, 200, 300 and print it\n",
        "tp = (100, 200 ,300)\n",
        "print(tp)\n",
        "print(type(tp))"
      ],
      "metadata": {
        "colab": {
          "base_uri": "https://localhost:8080/"
        },
        "id": "IsE0Tkukyn7p",
        "outputId": "969078cb-dd0d-4568-b3fe-5d311c2b1ea4"
      },
      "execution_count": 15,
      "outputs": [
        {
          "output_type": "stream",
          "name": "stdout",
          "text": [
            "(100, 200, 300)\n",
            "<class 'tuple'>\n"
          ]
        }
      ]
    },
    {
      "cell_type": "code",
      "source": [
        "# 12. Write a code to access the second-to-last element of the tuple ('red', 'green', 'blue', 'yellow').\n",
        "tp = ('red', 'green', 'blue', 'yellow')\n",
        "print(tp[-2])"
      ],
      "metadata": {
        "colab": {
          "base_uri": "https://localhost:8080/"
        },
        "id": "nn0dJAxUyvfo",
        "outputId": "2dd9bd64-4cb0-4bde-d081-17f8a9284d1d"
      },
      "execution_count": 16,
      "outputs": [
        {
          "output_type": "stream",
          "name": "stdout",
          "text": [
            "blue\n"
          ]
        }
      ]
    },
    {
      "cell_type": "code",
      "source": [
        "# 13. Write a code to find the minimum number in the tuple (10, 20, 5, 15).\n",
        "tp = (10, 20, 5, 15)\n",
        "print(min(tp))"
      ],
      "metadata": {
        "colab": {
          "base_uri": "https://localhost:8080/"
        },
        "id": "z9tn3hLby7HC",
        "outputId": "e9759b2e-b922-427e-cbb9-d7f2b8e6df1a"
      },
      "execution_count": 17,
      "outputs": [
        {
          "output_type": "stream",
          "name": "stdout",
          "text": [
            "5\n"
          ]
        }
      ]
    },
    {
      "cell_type": "code",
      "source": [
        "# 14. Write a code to find the index of the element \"cat\" in the tuple ('dog', 'cat', 'rabbit').\n",
        "tp = ('dog', 'cat', 'rabbit')\n",
        "print(tp.index('cat'))"
      ],
      "metadata": {
        "colab": {
          "base_uri": "https://localhost:8080/"
        },
        "id": "9L_mSuJ_zSPT",
        "outputId": "3e342735-481f-4c28-e178-ca773bc2577f"
      },
      "execution_count": 23,
      "outputs": [
        {
          "output_type": "stream",
          "name": "stdout",
          "text": [
            "1\n"
          ]
        }
      ]
    },
    {
      "cell_type": "code",
      "source": [
        "# 15. Write a code to create a tuple containing three different fruits and check if \"kiwi\" is in it.\n",
        "tp = (\"Apple\", \"Guava\", \"graphes\")\n",
        "\n",
        "if \"kiwi\" in tp:\n",
        "  print(\"Present\")\n",
        "else:\n",
        "  print(\"not present\")"
      ],
      "metadata": {
        "colab": {
          "base_uri": "https://localhost:8080/"
        },
        "id": "HsQYig_0zZnj",
        "outputId": "3238b2f3-33f9-4773-d88f-d45f3fcabb27"
      },
      "execution_count": 26,
      "outputs": [
        {
          "output_type": "stream",
          "name": "stdout",
          "text": [
            "not present\n"
          ]
        }
      ]
    },
    {
      "cell_type": "code",
      "source": [
        "# 16.  Write a code to create a set with the elements 'a', 'b', 'c' and print it\n",
        "st = {'a', 'b', 'c'}\n",
        "print(st)"
      ],
      "metadata": {
        "colab": {
          "base_uri": "https://localhost:8080/"
        },
        "id": "t-7JAeptz5GZ",
        "outputId": "0c81c0d0-40e8-4b43-8f5c-eaf0663ae573"
      },
      "execution_count": 27,
      "outputs": [
        {
          "output_type": "stream",
          "name": "stdout",
          "text": [
            "{'a', 'b', 'c'}\n"
          ]
        }
      ]
    },
    {
      "cell_type": "code",
      "source": [
        "# 17. Write a code to clear all elements from the set {1, 2, 3, 4, 5}\n",
        "st = {1, 2, 3, 4, 5}\n",
        "st.clear()\n",
        "print(st)"
      ],
      "metadata": {
        "colab": {
          "base_uri": "https://localhost:8080/"
        },
        "id": "ynix94Pr0RHQ",
        "outputId": "143532ab-f998-4c25-955b-d37ff3806837"
      },
      "execution_count": 28,
      "outputs": [
        {
          "output_type": "stream",
          "name": "stdout",
          "text": [
            "set()\n"
          ]
        }
      ]
    },
    {
      "cell_type": "code",
      "source": [
        "# 18.  Write a code to remove the element 4 from the set {1, 2, 3, 4}.\n",
        "st = {1, 2, 3, 4}\n",
        "st.remove(4)\n",
        "print(st)"
      ],
      "metadata": {
        "colab": {
          "base_uri": "https://localhost:8080/"
        },
        "id": "XtXG4gBx0XNs",
        "outputId": "6acb5366-0603-462a-8154-740c6a913e07"
      },
      "execution_count": 31,
      "outputs": [
        {
          "output_type": "stream",
          "name": "stdout",
          "text": [
            "{1, 2, 3}\n"
          ]
        }
      ]
    },
    {
      "cell_type": "code",
      "source": [
        "# 19. Write a code to find the union of two sets {1, 2, 3} and {3, 4, 5}.\n",
        "st1 = {1, 2, 3}\n",
        "st2 = {3, 4, 5}\n",
        "\n",
        "st = st1 | st2\n",
        "print(st)"
      ],
      "metadata": {
        "colab": {
          "base_uri": "https://localhost:8080/"
        },
        "id": "r8GwNP_t0dLm",
        "outputId": "261eb3e5-fff7-42d1-b0ea-3c0933a6f5ab"
      },
      "execution_count": 33,
      "outputs": [
        {
          "output_type": "stream",
          "name": "stdout",
          "text": [
            "{1, 2, 3, 4, 5}\n"
          ]
        }
      ]
    },
    {
      "cell_type": "code",
      "source": [
        "# 20.  Write a code to find the intersection of two sets {1, 2, 3} and {2, 3, 4}.\n",
        "st1 = {1, 2, 3}\n",
        "st2 = {3, 4, 5}\n",
        "\n",
        "print(st1 & st2)"
      ],
      "metadata": {
        "colab": {
          "base_uri": "https://localhost:8080/"
        },
        "id": "Vf-rCZjr0r3Y",
        "outputId": "0aaa5573-bea9-4430-eb68-7667f203c233"
      },
      "execution_count": 34,
      "outputs": [
        {
          "output_type": "stream",
          "name": "stdout",
          "text": [
            "{3}\n"
          ]
        }
      ]
    },
    {
      "cell_type": "code",
      "source": [
        "# 21.  Write a code to create a dictionary with the keys \"name\", \"age\", and \"city\", and print it.\n"
      ],
      "metadata": {
        "id": "aGp--J0v1E77"
      },
      "execution_count": null,
      "outputs": []
    },
    {
      "cell_type": "code",
      "metadata": {
        "colab": {
          "base_uri": "https://localhost:8080/"
        },
        "id": "e77de1eb",
        "outputId": "864b843a-e35b-4c14-e053-bc7595101a83"
      },
      "source": [
        "# 21. Write a code to create a dictionary with the keys \"name\", \"age\", and \"city\", and print it.\n",
        "my_dict = {\"name\": \"\", \"age\": \"\", \"city\": \"\"}\n",
        "print(my_dict)"
      ],
      "execution_count": 35,
      "outputs": [
        {
          "output_type": "stream",
          "name": "stdout",
          "text": [
            "{'name': '', 'age': '', 'city': ''}\n"
          ]
        }
      ]
    },
    {
      "cell_type": "code",
      "source": [
        "# 22.  Write a code to add a new key-value pair \"country\": \"USA\" to the dictionary {'name': 'John', 'age': 25}.\n"
      ],
      "metadata": {
        "id": "jLLgKGNz1QXA"
      },
      "execution_count": null,
      "outputs": []
    },
    {
      "cell_type": "code",
      "metadata": {
        "colab": {
          "base_uri": "https://localhost:8080/"
        },
        "id": "5a8e17d9",
        "outputId": "16f31a7b-b13a-4880-ea12-5c3a7f2e94ce"
      },
      "source": [
        "# 22. Write a code to add a new key-value pair \"country\": \"USA\" to the dictionary {'name': 'John', 'age': 25}.\n",
        "my_dict = {'name': 'John', 'age': 25}\n",
        "my_dict[\"country\"] = \"USA\"\n",
        "print(my_dict)"
      ],
      "execution_count": 36,
      "outputs": [
        {
          "output_type": "stream",
          "name": "stdout",
          "text": [
            "{'name': 'John', 'age': 25, 'country': 'USA'}\n"
          ]
        }
      ]
    },
    {
      "cell_type": "code",
      "source": [
        "# 23. Write a code to access the value associated with the key \"name\" in the dictionary {'name': 'Alice', 'age': 30}.\n",
        "\n",
        "my_dict = {'name': 'Alice', 'age': 30}\n",
        "print(my_dict['name'])"
      ],
      "metadata": {
        "colab": {
          "base_uri": "https://localhost:8080/"
        },
        "id": "KtsE7ygo1ghn",
        "outputId": "38b3b3c9-8513-44bc-acb0-9f329de37a61"
      },
      "execution_count": 38,
      "outputs": [
        {
          "output_type": "stream",
          "name": "stdout",
          "text": [
            "Alice\n"
          ]
        }
      ]
    },
    {
      "cell_type": "code",
      "source": [
        "# 24. Write a code to remove the key \"age\" from the dictionary {'name': 'Bob', 'age': 22, 'city': 'New York'}.\n",
        "dt = {'name': 'Bob', 'age': 22, 'city': 'New York'}\n",
        "\n",
        "dt.pop('age', None)\n",
        "print(dt)"
      ],
      "metadata": {
        "colab": {
          "base_uri": "https://localhost:8080/"
        },
        "id": "N4wC_YfN1vAA",
        "outputId": "d159476a-7d89-4b6c-a29b-1c0fdc3420f5"
      },
      "execution_count": 44,
      "outputs": [
        {
          "output_type": "stream",
          "name": "stdout",
          "text": [
            "{'name': 'Bob', 'city': 'New York'}\n"
          ]
        }
      ]
    },
    {
      "cell_type": "code",
      "source": [
        "# 25. Write a code to check if the key \"city\" exists in the dictionary {'name': 'Alice', 'city': 'Paris'}.\n"
      ],
      "metadata": {
        "id": "xgza4TWG14MC"
      },
      "execution_count": null,
      "outputs": []
    },
    {
      "cell_type": "code",
      "metadata": {
        "colab": {
          "base_uri": "https://localhost:8080/"
        },
        "id": "8a989a6a",
        "outputId": "19c39a96-1b8c-4670-b112-92943038a3eb"
      },
      "source": [
        "# 25. Write a code to check if the key \"city\" exists in the dictionary {'name': 'Alice', 'city': 'Paris'}.\n",
        "my_dict = {'name': 'Alice', 'city': 'Paris'}\n",
        "if 'city' in my_dict:\n",
        "  print(\"The key 'city' exists in the dictionary.\")\n",
        "else:\n",
        "  print(\"The key 'city' does not exist in the dictionary.\")"
      ],
      "execution_count": 45,
      "outputs": [
        {
          "output_type": "stream",
          "name": "stdout",
          "text": [
            "The key 'city' exists in the dictionary.\n"
          ]
        }
      ]
    },
    {
      "cell_type": "code",
      "source": [
        "# 26.  Write a code to create a list, a tuple, and a dictionary, and print them all."
      ],
      "metadata": {
        "id": "-ack2sux2JDO"
      },
      "execution_count": null,
      "outputs": []
    },
    {
      "cell_type": "code",
      "metadata": {
        "colab": {
          "base_uri": "https://localhost:8080/"
        },
        "id": "44d17f08",
        "outputId": "73264633-0abc-4660-d641-55d093894af4"
      },
      "source": [
        "# 26. Write a code to create a list, a tuple, and a dictionary, and print them all.\n",
        "my_list = [1, 2, 3]\n",
        "my_tuple = (4, 5, 6)\n",
        "my_dict = {\"a\": 7, \"b\": 8, \"c\": 9}\n",
        "\n",
        "print(\"List:\", my_list)\n",
        "print(\"Tuple:\", my_tuple)\n",
        "print(\"Dictionary:\", my_dict)"
      ],
      "execution_count": 46,
      "outputs": [
        {
          "output_type": "stream",
          "name": "stdout",
          "text": [
            "List: [1, 2, 3]\n",
            "Tuple: (4, 5, 6)\n",
            "Dictionary: {'a': 7, 'b': 8, 'c': 9}\n"
          ]
        }
      ]
    },
    {
      "cell_type": "code",
      "source": [
        "# 27. Write a code to create a list of 5 random numbers between 1 and 100, sort it in ascending order, and print the result.(replaced)\n",
        "import random\n",
        "lst = [random.randint(1, 100) for _ in range(3)]\n",
        "lst.sort()\n",
        "print(lst)"
      ],
      "metadata": {
        "colab": {
          "base_uri": "https://localhost:8080/"
        },
        "id": "C_lOBqiH2X6a",
        "outputId": "99452ad8-9218-4af8-e718-e29c3c0f3d02"
      },
      "execution_count": 48,
      "outputs": [
        {
          "output_type": "stream",
          "name": "stdout",
          "text": [
            "[2, 25, 31]\n"
          ]
        }
      ]
    },
    {
      "cell_type": "code",
      "source": [
        "# 28.  Write a code to create a list with strings and print the element at the third index.\n"
      ],
      "metadata": {
        "id": "IXY5ofj22oZ-"
      },
      "execution_count": null,
      "outputs": []
    },
    {
      "cell_type": "code",
      "metadata": {
        "colab": {
          "base_uri": "https://localhost:8080/"
        },
        "id": "2b244506",
        "outputId": "b8f45bb1-169c-49ef-b76c-af71a1d9784e"
      },
      "source": [
        "# 28. Write a code to create a list with strings and print the element at the third index.\n",
        "string_list = [\"apple\", \"banana\", \"cherry\", \"date\", \"elderberry\"]\n",
        "print(string_list[2])"
      ],
      "execution_count": 49,
      "outputs": [
        {
          "output_type": "stream",
          "name": "stdout",
          "text": [
            "cherry\n"
          ]
        }
      ]
    },
    {
      "cell_type": "code",
      "source": [
        "# 29. Write a code to combine two dictionaries into one and print the result.\n"
      ],
      "metadata": {
        "id": "klP6TdUb2v7o"
      },
      "execution_count": null,
      "outputs": []
    },
    {
      "cell_type": "code",
      "metadata": {
        "colab": {
          "base_uri": "https://localhost:8080/"
        },
        "id": "b3b48dfb",
        "outputId": "c37d1617-28b7-44e3-a856-cb3bd80cc559"
      },
      "source": [
        "# 29. Write a code to combine two dictionaries into one and print the result.\n",
        "dict1 = {\"a\": 1, \"b\": 2}\n",
        "dict2 = {\"c\": 3, \"d\": 4}\n",
        "\n",
        "# Using the update() method\n",
        "combined_dict_update = dict1.copy() # Create a copy to avoid modifying the original dict1\n",
        "combined_dict_update.update(dict2)\n",
        "print(\"Combined dictionary using update():\", combined_dict_update)\n",
        "\n",
        "combined_dict_union = dict1 | dict2\n",
        "print(\"Combined dictionary using union operator (|):\", combined_dict_union)"
      ],
      "execution_count": 53,
      "outputs": [
        {
          "output_type": "stream",
          "name": "stdout",
          "text": [
            "Combined dictionary using update(): {'a': 1, 'b': 2, 'c': 3, 'd': 4}\n",
            "Combined dictionary using union operator (|): {'a': 1, 'b': 2, 'c': 3, 'd': 4}\n"
          ]
        }
      ]
    },
    {
      "cell_type": "code",
      "source": [
        "# 30. Write a code to convert a list of strings into a set.\n"
      ],
      "metadata": {
        "id": "Ah8rsaOb24wh"
      },
      "execution_count": null,
      "outputs": []
    },
    {
      "cell_type": "code",
      "metadata": {
        "colab": {
          "base_uri": "https://localhost:8080/"
        },
        "id": "056dfe43",
        "outputId": "b928b814-aaa7-4999-b5a1-25e33a428364"
      },
      "source": [
        "# 30. Write a code to convert a list of strings into a set.\n",
        "string_list = [\"apple\", \"banana\", \"cherry\", \"apple\", \"date\"]\n",
        "string_set = set(string_list)\n",
        "print(string_set)"
      ],
      "execution_count": 54,
      "outputs": [
        {
          "output_type": "stream",
          "name": "stdout",
          "text": [
            "{'cherry', 'apple', 'date', 'banana'}\n"
          ]
        }
      ]
    }
  ]
}