{
  "nbformat": 4,
  "nbformat_minor": 0,
  "metadata": {
    "colab": {
      "provenance": []
    },
    "kernelspec": {
      "name": "python3",
      "display_name": "Python 3"
    },
    "language_info": {
      "name": "python"
    }
  },
  "cells": [
    {
      "cell_type": "markdown",
      "source": [
        "# Python Basics Questions"
      ],
      "metadata": {
        "id": "ItS03LmTR2am"
      }
    },
    {
      "cell_type": "markdown",
      "source": [
        "1. What is Python, and why is it popular ?\n",
        "-  > python is the intepreted programming language. It has so many libraries for different tasks. Thats why it is very popular and largly used.\n",
        "\n",
        "2. What is an interpreter in Python ?\n",
        "- > It is a program executer which read, translates and executes python code line by line.\n",
        "\n",
        "\n",
        "3. What are pre-defined keywords in Python ?\n",
        "- break, pass, continue, for, if, else, while, dict, list, set, False, True etc.\n",
        "\n",
        "4. Can keywords be used as variable names?\n",
        "- No.\n",
        "\n",
        "5. What is mutability in Python ?\n",
        "- Mutability is the type of objects which can be changes after declaration. Like List, Dictionary, set, They can be changed after declaration.\n",
        "\n",
        "6.  Why are lists mutable, but tuples are immutable?\n",
        "- Lists are designed to stored the values in sequence and tuples are designed for storing the sensitive values which can't be changes.\n",
        "\n",
        "7. What is the difference between “==” and “is” operators in Python ?\n",
        "- \"==\" compares the actual value stored and is compares the memory location.\n",
        "\n",
        "8.  What are logical operators in Python ?\n",
        "- logical operators in python are used to combine conditional statments and give boolean value. the logical operations like AND, OR, XOR.\n",
        "\n",
        "9. What is type casting in Python ?\n",
        "- type casting means converting the value from one data type into another.\n",
        "\n",
        "10. What is the difference between implicit and explicit type casting ?\n",
        "- Implicit type casting means python itself convert the data type of variable. In explicit user need to manually convert.\n",
        "\n",
        "11. What is the purpose of conditional statements in Python ?\n",
        "- Conditional statments are used to do certain action until the specified condition is reached.\n",
        "\n",
        "12. How does the elif statement work ?\n",
        "- elif statment is used with the if condition. If the if condition fails then elif block below it executed and check its condition.\n",
        "\n",
        "13. What is the difference between for and while loops ?\n",
        "- for loop is used to iterate over the iterator value like list or set. while loop is used to run in loop until the condition meets.\n",
        "\n",
        "14. Describe a scenario where a while loop is more suitable than a for loop ?\n",
        "- given two sorted lists and we want to collect the values from them in sorted order.\n"
      ],
      "metadata": {
        "id": "oTP6O-smORkd"
      }
    },
    {
      "cell_type": "markdown",
      "source": [
        "# Practical Questions"
      ],
      "metadata": {
        "id": "uVliSAx4JaZH"
      }
    },
    {
      "cell_type": "code",
      "source": [
        "# 1. Write a Python program to print \"Hello, World!\n",
        "print(\"Hello, World!\")"
      ],
      "metadata": {
        "colab": {
          "base_uri": "https://localhost:8080/"
        },
        "id": "rxjjajlMJfp8",
        "outputId": "3aff1483-5ba1-4ca7-fcc2-4f4f9f3679ef"
      },
      "execution_count": 1,
      "outputs": [
        {
          "output_type": "stream",
          "name": "stdout",
          "text": [
            "Hello, World!\n"
          ]
        }
      ]
    },
    {
      "cell_type": "code",
      "source": [
        "#2. Write a Python program that displays your name and age\n",
        "name = input(\"Enter your name: \")\n",
        "age = int(input(\"Enter your age: \"))\n",
        "print(f\"My name is {name} and my age is {age}\")"
      ],
      "metadata": {
        "colab": {
          "base_uri": "https://localhost:8080/"
        },
        "id": "DPoVGz7gJnWz",
        "outputId": "97c30b1d-22c0-4b36-c907-fe0e87a00d13"
      },
      "execution_count": 2,
      "outputs": [
        {
          "output_type": "stream",
          "name": "stdout",
          "text": [
            "Enter your name: kiran\n",
            "Enter your age: 34\n",
            "My name is kiran and my age is 34\n"
          ]
        }
      ]
    },
    {
      "cell_type": "code",
      "source": [
        "#3. Write code to print all the pre-defined keywords in Python using the keyword library.\n",
        "import keyword\n",
        "print(keyword.kwlist)"
      ],
      "metadata": {
        "colab": {
          "base_uri": "https://localhost:8080/"
        },
        "id": "Z3j9LBwRJuU1",
        "outputId": "d920a766-cdfb-4679-d210-99fb219b371a"
      },
      "execution_count": 4,
      "outputs": [
        {
          "output_type": "stream",
          "name": "stdout",
          "text": [
            "['False', 'None', 'True', 'and', 'as', 'assert', 'async', 'await', 'break', 'class', 'continue', 'def', 'del', 'elif', 'else', 'except', 'finally', 'for', 'from', 'global', 'if', 'import', 'in', 'is', 'lambda', 'nonlocal', 'not', 'or', 'pass', 'raise', 'return', 'try', 'while', 'with', 'yield']\n"
          ]
        }
      ]
    },
    {
      "cell_type": "code",
      "metadata": {
        "colab": {
          "base_uri": "https://localhost:8080/"
        },
        "id": "7976f069",
        "outputId": "9f4c1b47-0052-46df-bdd4-eaab6f87ddb0"
      },
      "source": [
        "#4. Write a program that checks if a given word is a Python keyword.\n",
        "import keyword\n",
        "\n",
        "word = input(\"Enter a word to check: \")\n",
        "\n",
        "if keyword.iskeyword(word):\n",
        "  print(f\"'{word}' is a Python keyword.\")\n",
        "else:\n",
        "  print(f\"'{word}' is not a Python keyword.\")"
      ],
      "execution_count": 5,
      "outputs": [
        {
          "output_type": "stream",
          "name": "stdout",
          "text": [
            "Enter a word to check: for\n",
            "'for' is a Python keyword.\n"
          ]
        }
      ]
    },
    {
      "cell_type": "code",
      "source": [
        "#5. Create a list and tuple in Python, and demonstrate how attempting to change an element works differently for each\n",
        "l = [1, 2, 3, 4]\n",
        "t = (1, 2 ,3, 4)\n",
        "l[0] = 10\n",
        "print(\"UPdated list\" , l)\n",
        "\n",
        "t = list(t)\n",
        "t[0] = 10\n",
        "t = tuple(t)\n",
        "print(\"UPdated tuple\" , t)\n"
      ],
      "metadata": {
        "colab": {
          "base_uri": "https://localhost:8080/"
        },
        "id": "FmLFogROKps6",
        "outputId": "696f60dd-377b-4b38-f90c-a2e4ec41072b"
      },
      "execution_count": 9,
      "outputs": [
        {
          "output_type": "stream",
          "name": "stdout",
          "text": [
            "UPdated list [10, 2, 3, 4]\n",
            "UPdated tuple (10, 2, 3, 4)\n"
          ]
        }
      ]
    },
    {
      "cell_type": "code",
      "source": [
        "# 6. Write a function to demonstrate the behavior of mutable and immutable arguments.\n",
        "\n",
        "def modify_arguments(mutable_list, immutable_int):\n",
        "  \"\"\"\n",
        "  Demonstrates how mutable and immutable arguments behave in a function.\n",
        "  \"\"\"\n",
        "  print(\"Inside the function (before modification):\")\n",
        "  print(\"Mutable list:\", mutable_list)\n",
        "  print(\"Immutable integer:\", immutable_int)\n",
        "\n",
        "  # Modify the mutable argument (list)\n",
        "  mutable_list.append(5)\n",
        "\n",
        "  # Attempt to modify the immutable argument (integer) - creates a new local variable\n",
        "  immutable_int = immutable_int + 1\n",
        "\n",
        "  print(\"Inside the function (after modification):\")\n",
        "  print(\"Mutable list:\", mutable_list)\n",
        "  print(\"Immutable integer:\", immutable_int)\n",
        "\n",
        "# Demonstrate with a mutable list\n",
        "my_list = [1, 2, 3, 4]\n",
        "my_int = 10\n",
        "\n",
        "print(\"Outside the function (before call):\")\n",
        "print(\"Mutable list:\", my_list)\n",
        "print(\"Immutable integer:\", my_int)\n",
        "\n",
        "modify_arguments(my_list, my_int)\n",
        "\n",
        "print(\"Outside the function (after call):\")\n",
        "print(\"Mutable list:\", my_list)\n",
        "print(\"Immutable integer:\", my_int)"
      ],
      "metadata": {
        "colab": {
          "base_uri": "https://localhost:8080/"
        },
        "id": "cOjhqP5ULDuJ",
        "outputId": "216f9596-cd46-4d6b-aa6a-7a30010013c5"
      },
      "execution_count": 10,
      "outputs": [
        {
          "output_type": "stream",
          "name": "stdout",
          "text": [
            "Outside the function (before call):\n",
            "Mutable list: [1, 2, 3, 4]\n",
            "Immutable integer: 10\n",
            "Inside the function (before modification):\n",
            "Mutable list: [1, 2, 3, 4]\n",
            "Immutable integer: 10\n",
            "Inside the function (after modification):\n",
            "Mutable list: [1, 2, 3, 4, 5]\n",
            "Immutable integer: 11\n",
            "Outside the function (after call):\n",
            "Mutable list: [1, 2, 3, 4, 5]\n",
            "Immutable integer: 10\n"
          ]
        }
      ]
    },
    {
      "cell_type": "code",
      "source": [
        "# 7. Write a program that performs basic arithmetic operations on two user-input numbers.\n",
        "a = int(input(\"Enter first number: \"))\n",
        "b = int(input(\"Enter second number: \"))\n",
        "print(\"Addition: \", a+b)\n",
        "print(\"Subtraction: \", a-b)\n",
        "print(\"Multiplication: \", a*b)\n",
        "print(\"Division: \", a/b)"
      ],
      "metadata": {
        "colab": {
          "base_uri": "https://localhost:8080/"
        },
        "id": "tjM4eTp1L-yN",
        "outputId": "00ae73e4-db57-4e11-d8d1-07e81e504b0d"
      },
      "execution_count": 11,
      "outputs": [
        {
          "output_type": "stream",
          "name": "stdout",
          "text": [
            "Enter first number: 3\n",
            "Enter second number: 5\n",
            "Addition:  8\n",
            "Subtraction:  -2\n",
            "Multiplication:  15\n",
            "Division:  0.6\n"
          ]
        }
      ]
    },
    {
      "cell_type": "code",
      "source": [
        "# 8. Write a program to demonstrate the use of logical operators.\n",
        "a = 5\n",
        "b = 2\n",
        "\n",
        "if a == 5 and b == 2:\n",
        "  print(\"Correct value\")\n",
        "\n",
        "if a % 2 == 0 or b % 2 == 0:\n",
        "  print(\"At least one number is even number\")\n",
        ""
      ],
      "metadata": {
        "colab": {
          "base_uri": "https://localhost:8080/"
        },
        "id": "Dv-EdL6LMMiz",
        "outputId": "2bf78b99-8e0c-480a-b9d7-1071663162bb"
      },
      "execution_count": 12,
      "outputs": [
        {
          "output_type": "stream",
          "name": "stdout",
          "text": [
            "Correct value\n",
            "At least one number is even number\n"
          ]
        }
      ]
    },
    {
      "cell_type": "code",
      "source": [
        "# 9. Write a Python program to convert user input from string to integer, float, and boolean types.\n",
        "a = input(\"Enter a number\")\n",
        "\n",
        "a = int(a)\n",
        "print(a, type(a))\n",
        "\n",
        "a = float(a)\n",
        "print(a, type(a))\n",
        "\n",
        "a = bool(a)\n",
        "print(a, type(a))"
      ],
      "metadata": {
        "colab": {
          "base_uri": "https://localhost:8080/"
        },
        "id": "SYdyBveNMkHr",
        "outputId": "4eb8de45-c4ae-43ec-c8ee-04beafa43642"
      },
      "execution_count": 14,
      "outputs": [
        {
          "output_type": "stream",
          "name": "stdout",
          "text": [
            "Enter a number5\n",
            "5 <class 'int'>\n",
            "5.0 <class 'float'>\n",
            "True <class 'bool'>\n"
          ]
        }
      ]
    },
    {
      "cell_type": "code",
      "source": [
        "# 10. Write code to demonstrate type casting with list elements.\n",
        "a = [1, \"2\", 3, \"4\", \"5\"]\n",
        "\n",
        "b = [int(value) for value in a]\n",
        "\n",
        "print(b)"
      ],
      "metadata": {
        "colab": {
          "base_uri": "https://localhost:8080/"
        },
        "id": "hhcRcvNTM0e4",
        "outputId": "e200b6bf-393e-4728-97ba-5b2f8f6259cd"
      },
      "execution_count": 16,
      "outputs": [
        {
          "output_type": "stream",
          "name": "stdout",
          "text": [
            "[1, 2, 3, 4, 5]\n"
          ]
        }
      ]
    },
    {
      "cell_type": "code",
      "source": [
        "# 11. Write a program that checks if a number is positive, negative, or zero.\n",
        "a = int(input(\"Enter a number: \"))\n",
        "if a > 0:\n",
        "  print(\"Number is positive\")\n",
        "elif a < 0:\n",
        "  print(\"Number is negative\")\n",
        "else:\n",
        "  print(\"Number is zero\")"
      ],
      "metadata": {
        "colab": {
          "base_uri": "https://localhost:8080/"
        },
        "id": "2zFDND0ANH6d",
        "outputId": "724178f4-40de-4b3f-b5b6-6132c52bf3bd"
      },
      "execution_count": 17,
      "outputs": [
        {
          "output_type": "stream",
          "name": "stdout",
          "text": [
            "Enter a number: 10\n",
            "Number is positive\n"
          ]
        }
      ]
    },
    {
      "cell_type": "code",
      "source": [
        "# 12. Write a for loop to print numbers from 1 to 10.\n",
        "for i in range(1, 11):\n",
        "  print(i)"
      ],
      "metadata": {
        "colab": {
          "base_uri": "https://localhost:8080/"
        },
        "id": "TPN5vLFgNWS_",
        "outputId": "9a680ffb-1d69-446f-813c-61d628ab909a"
      },
      "execution_count": 18,
      "outputs": [
        {
          "output_type": "stream",
          "name": "stdout",
          "text": [
            "1\n",
            "2\n",
            "3\n",
            "4\n",
            "5\n",
            "6\n",
            "7\n",
            "8\n",
            "9\n",
            "10\n"
          ]
        }
      ]
    },
    {
      "cell_type": "code",
      "source": [
        "# 13. Write a Python program to find the sum of all even numbers between 1 and 50.\n",
        "\n",
        "from functools import reduce\n",
        "sum = reduce(lambda x,y: x+y, filter(lambda x: x%2 == 0, range(51)))\n",
        "print(sum)"
      ],
      "metadata": {
        "colab": {
          "base_uri": "https://localhost:8080/"
        },
        "id": "IYLw_N_QNeK8",
        "outputId": "2c9880de-ff76-41c6-8d58-d7b2fef3d87a"
      },
      "execution_count": 21,
      "outputs": [
        {
          "output_type": "stream",
          "name": "stdout",
          "text": [
            "650\n"
          ]
        }
      ]
    },
    {
      "cell_type": "code",
      "source": [
        "# 14.  Write a program to reverse a string using a while loop.\n",
        "st = \"My name\"\n",
        "\n",
        "i = len(st)-1\n",
        "res = []\n",
        "while i>=0:\n",
        "  res.append(st[i])\n",
        "  i -= 1\n",
        "\n",
        "res = \"\".join(res)\n",
        "print(\"Reveresed: \", res)"
      ],
      "metadata": {
        "colab": {
          "base_uri": "https://localhost:8080/"
        },
        "id": "UkUSPkp6QFOW",
        "outputId": "2a344c9f-4e20-4f2f-bf7a-5f38c2256b64"
      },
      "execution_count": 24,
      "outputs": [
        {
          "output_type": "stream",
          "name": "stdout",
          "text": [
            "Reveresed:  eman yM\n"
          ]
        }
      ]
    },
    {
      "cell_type": "code",
      "source": [
        "# 15. Write a Python program to calculate the factorial of a number provided by the user using a while loop.\n",
        "n = int(input(\"Enter a number\"))\n",
        "\n",
        "res = 1\n",
        "\n",
        "while n > 0:\n",
        "  res *= n\n",
        "  n -= 1\n",
        "\n",
        "print(res)"
      ],
      "metadata": {
        "colab": {
          "base_uri": "https://localhost:8080/"
        },
        "id": "HUPxQgLKQxQC",
        "outputId": "13ae315d-9995-4d45-b5da-a57b77edae64"
      },
      "execution_count": 25,
      "outputs": [
        {
          "output_type": "stream",
          "name": "stdout",
          "text": [
            "Enter a number5\n",
            "120\n"
          ]
        }
      ]
    },
    {
      "cell_type": "code",
      "source": [],
      "metadata": {
        "id": "AU_J9Hl4RzDd"
      },
      "execution_count": null,
      "outputs": []
    }
  ]
}