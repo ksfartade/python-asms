{
  "nbformat": 4,
  "nbformat_minor": 0,
  "metadata": {
    "colab": {
      "provenance": []
    },
    "kernelspec": {
      "name": "python3",
      "display_name": "Python 3"
    },
    "language_info": {
      "name": "python"
    }
  },
  "cells": [
    {
      "cell_type": "markdown",
      "source": [
        "### Python OOPs Questions\n",
        "\n",
        "1. What is Object-Oriented Programming (OOP)?\n",
        "- It is a style of writing code which consists of classes as a blueprint and object of those classes.\n",
        "\n",
        "2. What is a class in OOP?\n",
        "- Class is the blueprint for creating an object which consist of methods and variables.\n",
        "\n",
        "3. What is an object in OOP?\n",
        "- object is the running instance of class.\n",
        "\n",
        "4. What is the difference between abstraction and encapsulation ?\n",
        "- Abstraction is used for hiding the sensitive information form user and it is implemented using the abstract classes and methods. Encapsulation is the bundling of methods and variables into single class and controll their accesses with different access modifiers.\n",
        "\n",
        "5.  What are dunder methods in Python ?\n",
        "- It is a special type of methods called by python only at special operations, like add, substract, printing.\n",
        "\n",
        "6. Explain the concept of inheritance in OOP ?\n",
        "- It is used to get all the properties and methdos from the parent class into the child class without writing the complete code again.\n",
        "\n",
        "7. What is polymorphism in OOP?\n",
        "- It is a multiple form of the single entity. We can implement polymorphism in python using method overloading and overriding techniques.\n",
        "\n",
        "8.  How is encapsulation achieved in Python ?\n",
        "- Using class with different access modifires we can acheive encapsulation. Define getter and setters for the sensitive variables updation.\n",
        "\n",
        "9. What is a constructor in Python ?\n",
        "- It is a special method in python classes which is used to initiase the class object.\n",
        "\n",
        "10. What are class and static methods in Python ?\n",
        "- class methods has the access to the class variables and has class object as first argument. Static methods don't have access to any class or object data.\n",
        "\n",
        "11. What is method overloading in Python ?\n",
        "- It is defination of same method name with different purposes.\n",
        "\n",
        "12. What is method overriding in OOP ?\n",
        "- It is style of redefining the method from parent class in child class. It is used in classes inheritance.\n",
        "\n",
        "13. What is a property decorator in Python ?\n",
        "- It is a decorator used to make the class method as a class property and access that method as a class property.\n",
        "\n",
        "14. Why is polymorphism important in OOP ?\n",
        "- We can use single method in multiple ways. FOr example: Using default method argument, defining the same methods in multiple classes for different purpose.\n",
        "\n",
        "15.  What is an abstract class in Python ?\n",
        "- Abstract class is the class which contains the abstract methods. It's object can't be created.\n",
        "\n",
        "16. What are the advantages of OOP ?\n",
        "- Code reusability and use of classes for advance feature and code simplicity.\n",
        "\n",
        "17. What is the difference between a class variable and an instance variable ?\n",
        "- class variables are connected with the class and shared accross all the instances. Instance variables are defined using the self keyword and are seperate for each class object.\n",
        "\n",
        "18. What is multiple inheritance in Python ?\n",
        "- We can inherit multiple classes at a same time.\n",
        "\n",
        "19.  Explain the purpose of ‘’__str__’ and ‘__repr__’ ‘ methods in Python ?\n",
        "- str is the normal string representation of class object in print statment, while __repr__ is the ambigius and developer friendly representation of class.\n",
        "\n",
        "20.  What is the significance of the ‘super()’ function in Python ?\n",
        "- It is used in inheritance to call the parent classes properties like methods and variables.\n",
        "\n",
        "21. What is the significance of the __del__ method in Python ?\n",
        "- It is used while delete operation. For example: del class_obj.\n",
        "\n",
        "22. What is the difference between @staticmethod and @classmethod in Python ?\n",
        "- staticmethod decorator is used to define static methods and classmethod decorator is used to define the class methods.\n",
        "\n",
        "23. How does polymorphism work in Python with inheritance ?\n",
        "- we can override the parent class methods so that, we can change their functionality as per our need.\n",
        "\n",
        "24. What is method chaining in Python OOP ?\n",
        "- It is a programming style where we call multiple methods in a single line by calling one after another. Where each method in chain return their class object.\n",
        "\n",
        "25. What is the purpose of the __call__ method in Python?\n",
        "- It is a dunder method in python used to make the class object callable like function or methods.\n",
        "\n",
        "\n",
        "\n",
        "\n"
      ],
      "metadata": {
        "id": "binOF_QUbYoO"
      }
    },
    {
      "cell_type": "code",
      "source": [
        "## Practical Questions.\n",
        "\n",
        "\n",
        "#1. Create a parent class Animal with a method speak() that prints a generic message. Create a child class Dog that overrides the speak() method to print \"Bark!\".\n",
        "class Animal:\n",
        "  def speak(self):\n",
        "    print(\"Animal sound\")\n",
        "\n",
        "\n",
        "class Dog(Animal):\n",
        "  def speak(self):\n",
        "    print(\"Bark!\")\n",
        "\n",
        "\n",
        "dog = Dog()\n",
        "dog.speak()\n",
        "\n",
        "\n"
      ],
      "metadata": {
        "colab": {
          "base_uri": "https://localhost:8080/"
        },
        "id": "8in4t3tFourr",
        "outputId": "b4e28432-14e1-45dc-a9dc-ed9f9931ed93"
      },
      "execution_count": 2,
      "outputs": [
        {
          "output_type": "stream",
          "name": "stdout",
          "text": [
            "Bark!\n"
          ]
        }
      ]
    },
    {
      "cell_type": "code",
      "source": [
        "# 2.  Write a program to create an abstract class Shape with a method area(). Derive classes Circle and Rectangle from it and implement the area() method in both.\n",
        "\n",
        "from abc import ABC, abstractmethod\n",
        "class Shape(ABC):\n",
        "  @abstractmethod\n",
        "  def area(self):\n",
        "    pass\n",
        "\n",
        "\n",
        "class Circle(Shape):\n",
        "  def area(self):\n",
        "    print(\"Area of circle is pie*R*R\")\n",
        "\n",
        "class Reactange(Shape):\n",
        "  def area(self):\n",
        "    print(\"Area of reactangle is Length*width\")\n",
        "\n",
        "\n",
        "\n",
        "circle = Circle()\n",
        "react = Reactange()\n",
        "circle.area()\n",
        "react.area()\n",
        "\n",
        "\n"
      ],
      "metadata": {
        "colab": {
          "base_uri": "https://localhost:8080/"
        },
        "id": "kkpw547epxf4",
        "outputId": "a594b6e2-d762-40d2-a358-13f09cb58266"
      },
      "execution_count": 4,
      "outputs": [
        {
          "output_type": "stream",
          "name": "stdout",
          "text": [
            "Area of circle is pie*R*R\n",
            "Area of reactangle is Length*width\n"
          ]
        }
      ]
    },
    {
      "cell_type": "code",
      "source": [
        "# 3.  Implement a multi-level inheritance scenario where a class Vehicle has an attribute type. Derive a class Car and further derive a class ElectricCar that adds a battery attribute.\n",
        "\n",
        "class Vehicle:\n",
        "  v_type = \"basic\"\n",
        "\n",
        "class Car(Vehicle):\n",
        "  types = 4\n",
        "\n",
        "class ElectricCar(Car):\n",
        "  battery = 2\n",
        "\n",
        "\n",
        "car = ElectricCar()\n",
        "\n",
        "print(car.v_type)\n",
        "print(car.types )\n",
        "print(car.battery)\n",
        "\n",
        "\n",
        "\n"
      ],
      "metadata": {
        "colab": {
          "base_uri": "https://localhost:8080/"
        },
        "id": "8CdyX-GgrEIu",
        "outputId": "08c6b7e8-ff34-45cf-f040-9c7d48f4ea28"
      },
      "execution_count": 5,
      "outputs": [
        {
          "output_type": "stream",
          "name": "stdout",
          "text": [
            "basic\n",
            "4\n",
            "2\n"
          ]
        }
      ]
    },
    {
      "cell_type": "code",
      "metadata": {
        "colab": {
          "base_uri": "https://localhost:8080/"
        },
        "id": "cb08be36",
        "outputId": "43e5d3ee-2f0f-4593-8434-2af9d3f98ce9"
      },
      "source": [
        "# 4. Demonstrate polymorphism by creating a base class Bird with a method fly(). Create two derived classes Sparrow and Penguin that override the fly() method.\n",
        "\n",
        "class Bird:\n",
        "  def fly(self):\n",
        "    print(\"Bird is flying\")\n",
        "\n",
        "class Sparrow(Bird):\n",
        "  def fly(self):\n",
        "    print(\"Sparrow is flying high\")\n",
        "\n",
        "class Penguin(Bird):\n",
        "  def fly(self):\n",
        "    print(\"Penguin cannot fly, it swims\")\n",
        "\n",
        "# Demonstrate polymorphism\n",
        "def make_bird_fly(bird):\n",
        "  bird.fly()\n",
        "\n",
        "sparrow = Sparrow()\n",
        "penguin = Penguin()\n",
        "\n",
        "make_bird_fly(sparrow)\n",
        "make_bird_fly(penguin)"
      ],
      "execution_count": 6,
      "outputs": [
        {
          "output_type": "stream",
          "name": "stdout",
          "text": [
            "Sparrow is flying high\n",
            "Penguin cannot fly, it swims\n"
          ]
        }
      ]
    },
    {
      "cell_type": "code",
      "source": [
        "# 5. Write a program to demonstrate encapsulation by creating a class BankAccount with private attributes balance and methods to deposit, withdraw, and check balance.\n",
        "\n",
        "class BankAccount:\n",
        "  def __init__(self):\n",
        "    self.__amount = 0\n",
        "\n",
        "  def deposit(self, amount):\n",
        "    self.__amount += amount\n",
        "    print(\"Amount deposited..\")\n",
        "\n",
        "  def withdraw(self, amount):\n",
        "    if(amount > self.__amount):\n",
        "      print(\"insufficient amount...\")\n",
        "      return\n",
        "\n",
        "    self.__amount -= amount\n",
        "    print(\"Amount withdrawn successfully.\")\n",
        "\n",
        "  def check_balance(self):\n",
        "    print(\"Your bank amount is: \", self.__amount)\n",
        "\n",
        "\n",
        "account = BankAccount()\n",
        "account.deposit(1000)\n",
        "account.withdraw(2000)\n",
        "account.check_balance()\n"
      ],
      "metadata": {
        "colab": {
          "base_uri": "https://localhost:8080/"
        },
        "id": "og7yJY0csyjM",
        "outputId": "db9679ff-64c2-43a5-dbbe-dd21c119b096"
      },
      "execution_count": 9,
      "outputs": [
        {
          "output_type": "stream",
          "name": "stdout",
          "text": [
            "Amount deposited..\n",
            "insufficient amount...\n",
            "Your bank amount is:  1000\n"
          ]
        }
      ]
    },
    {
      "cell_type": "code",
      "metadata": {
        "colab": {
          "base_uri": "https://localhost:8080/"
        },
        "id": "7799ec8c",
        "outputId": "6304c9b3-1b72-4f6b-ff47-0cbf131a4194"
      },
      "source": [
        "# 6. Demonstrate runtime polymorphism using a method play() in a base class Instrument. Derive classes Guitar and Piano that implement their own version of play().\n",
        "\n",
        "class Instrument:\n",
        "  def play(self):\n",
        "    pass  # Base class method\n",
        "\n",
        "class Guitar(Instrument):\n",
        "  def play(self):\n",
        "    print(\"Playing guitar sounds\")\n",
        "\n",
        "class Piano(Instrument):\n",
        "  def play(self):\n",
        "    print(\"Playing piano melodies\")\n",
        "\n",
        "# Demonstrate runtime polymorphism\n",
        "def make_instrument_play(instrument):\n",
        "  instrument.play()\n",
        "\n",
        "guitar = Guitar()\n",
        "piano = Piano()\n",
        "\n",
        "make_instrument_play(guitar)\n",
        "make_instrument_play(piano)"
      ],
      "execution_count": 10,
      "outputs": [
        {
          "output_type": "stream",
          "name": "stdout",
          "text": [
            "Playing guitar sounds\n",
            "Playing piano melodies\n"
          ]
        }
      ]
    },
    {
      "cell_type": "code",
      "metadata": {
        "colab": {
          "base_uri": "https://localhost:8080/"
        },
        "id": "3b8d3658",
        "outputId": "bfe12df0-6a54-4522-e475-873a7b3d62cc"
      },
      "source": [
        "# 7. Create a class MathOperations with a class method add_numbers() to add two numbers and a static\n",
        "# method subtract_numbers() to subtract two numbers.\n",
        "\n",
        "class MathOperations:\n",
        "  @classmethod\n",
        "  def add_numbers(cls, x, y):\n",
        "    return x + y\n",
        "\n",
        "  @staticmethod\n",
        "  def subtract_numbers(x, y):\n",
        "    return x - y\n",
        "\n",
        "# Example usage\n",
        "print(\"Addition:\", MathOperations.add_numbers(10, 5))\n",
        "print(\"Subtraction:\", MathOperations.subtract_numbers(10, 5))"
      ],
      "execution_count": 11,
      "outputs": [
        {
          "output_type": "stream",
          "name": "stdout",
          "text": [
            "Addition: 15\n",
            "Subtraction: 5\n"
          ]
        }
      ]
    },
    {
      "cell_type": "code",
      "metadata": {
        "colab": {
          "base_uri": "https://localhost:8080/"
        },
        "id": "e424f48e",
        "outputId": "e4d1d8ee-7a72-46f2-9c42-33081360c547"
      },
      "source": [
        "# 8. Implement a class Person with a class method to count the total number of persons created.\n",
        "\n",
        "class Person:\n",
        "  count = 0  # Class variable to keep track of the number of persons\n",
        "\n",
        "  def __init__(self, name):\n",
        "    self.name = name\n",
        "    Person.count += 1 # Increment the count each time a new object is created\n",
        "\n",
        "  @classmethod\n",
        "  def total_persons(cls):\n",
        "    return cls.count\n",
        "\n",
        "# Example usage\n",
        "person1 = Person(\"Alice\")\n",
        "person2 = Person(\"Bob\")\n",
        "person3 = Person(\"Charlie\")\n",
        "\n",
        "print(\"Total number of persons created:\", Person.total_persons())"
      ],
      "execution_count": 12,
      "outputs": [
        {
          "output_type": "stream",
          "name": "stdout",
          "text": [
            "Total number of persons created: 3\n"
          ]
        }
      ]
    },
    {
      "cell_type": "code",
      "metadata": {
        "colab": {
          "base_uri": "https://localhost:8080/"
        },
        "id": "aeea2e57",
        "outputId": "6c7bc5ee-b33a-4fff-f52a-3e3bfce01e3a"
      },
      "source": [
        "# 9. Write a class Fraction with attributes numerator and denominator. Override the str method to display the\n",
        "# fraction as \"numerator/denominator\".\n",
        "\n",
        "class Fraction:\n",
        "  def __init__(self, numerator, denominator):\n",
        "    self.numerator = numerator\n",
        "    self.denominator = denominator\n",
        "\n",
        "  def __str__(self):\n",
        "    return f\"{self.numerator}/{self.denominator}\"\n",
        "\n",
        "# Example usage\n",
        "fraction1 = Fraction(3, 4)\n",
        "print(fraction1)\n",
        "\n",
        "fraction2 = Fraction(1, 2)\n",
        "print(fraction2)"
      ],
      "execution_count": 13,
      "outputs": [
        {
          "output_type": "stream",
          "name": "stdout",
          "text": [
            "3/4\n",
            "1/2\n"
          ]
        }
      ]
    },
    {
      "cell_type": "code",
      "source": [],
      "metadata": {
        "id": "2BKp6Tdfx19E"
      },
      "execution_count": null,
      "outputs": []
    },
    {
      "cell_type": "code",
      "metadata": {
        "colab": {
          "base_uri": "https://localhost:8080/"
        },
        "id": "fc0de41a",
        "outputId": "fc99593f-9714-4ca0-9de3-207e1c401cb0"
      },
      "source": [
        "# 10. Demonstrate operator overloading by creating a class Vector and overriding the add method to add two\n",
        "# vectors.\n",
        "\n",
        "class Vector:\n",
        "    def __init__(self, x, y):\n",
        "        self.x = x\n",
        "        self.y = y\n",
        "\n",
        "    def __str__(self):\n",
        "        return f\"Vector({self.x}, {self.y})\"\n",
        "\n",
        "    def __add__(self, other):\n",
        "        if isinstance(other, Vector):\n",
        "            return Vector(self.x + other.x, self.y + other.y)\n",
        "        else:\n",
        "            raise TypeError(\"Can only add Vector objects\")\n",
        "\n",
        "# Example usage\n",
        "v1 = Vector(2, 3)\n",
        "v2 = Vector(1, 4)\n",
        "\n",
        "v3 = v1 + v2\n",
        "print(v3)"
      ],
      "execution_count": 14,
      "outputs": [
        {
          "output_type": "stream",
          "name": "stdout",
          "text": [
            "Vector(3, 7)\n"
          ]
        }
      ]
    },
    {
      "cell_type": "code",
      "source": [],
      "metadata": {
        "id": "kjn06xl8yGMW"
      },
      "execution_count": null,
      "outputs": []
    },
    {
      "cell_type": "code",
      "metadata": {
        "colab": {
          "base_uri": "https://localhost:8080/"
        },
        "id": "0029573b",
        "outputId": "8a4e9956-2726-4dcb-e3a5-4c31b5bc450e"
      },
      "source": [
        "# 11. Create a class Person with attributes name and age. Add a method greet() that prints \"Hello, my name is\n",
        "# {name} and I am {age} years old.\"\n",
        "\n",
        "class Person:\n",
        "  def __init__(self, name, age):\n",
        "    self.name = name\n",
        "    self.age = age\n",
        "\n",
        "  def greet(self):\n",
        "    print(f\"Hello, my name is {self.name} and I am {self.age} years old.\")\n",
        "\n",
        "# Example usage\n",
        "person = Person(\"Alice\", 30)\n",
        "person.greet()"
      ],
      "execution_count": 15,
      "outputs": [
        {
          "output_type": "stream",
          "name": "stdout",
          "text": [
            "Hello, my name is Alice and I am 30 years old.\n"
          ]
        }
      ]
    },
    {
      "cell_type": "code",
      "source": [],
      "metadata": {
        "id": "L04NOjjGySlN"
      },
      "execution_count": null,
      "outputs": []
    },
    {
      "cell_type": "code",
      "metadata": {
        "colab": {
          "base_uri": "https://localhost:8080/"
        },
        "id": "7e48affb",
        "outputId": "b97f080a-a999-4079-dc17-791dbe69fc2f"
      },
      "source": [
        "# 12. Implement a class Student with attributes name and grades. Create a method average_grade() to compute\n",
        "# the average of the grades.\n",
        "\n",
        "class Student:\n",
        "  def __init__(self, name, grades):\n",
        "    self.name = name\n",
        "    self.grades = grades\n",
        "\n",
        "  def average_grade(self):\n",
        "    if not self.grades:\n",
        "      return 0  # Return 0 if there are no grades\n",
        "    return sum(self.grades) / len(self.grades)\n",
        "\n",
        "# Example usage\n",
        "student1 = Student(\"Alice\", [85, 90, 92, 88])\n",
        "print(f\"{student1.name}'s average grade is: {student1.average_grade()}\")\n",
        "\n",
        "student2 = Student(\"Bob\", [78, 82, 80])\n",
        "print(f\"{student2.name}'s average grade is: {student2.average_grade()}\")\n",
        "\n",
        "student3 = Student(\"Charlie\", [])\n",
        "print(f\"{student3.name}'s average grade is: {student3.average_grade()}\")"
      ],
      "execution_count": 16,
      "outputs": [
        {
          "output_type": "stream",
          "name": "stdout",
          "text": [
            "Alice's average grade is: 88.75\n",
            "Bob's average grade is: 80.0\n",
            "Charlie's average grade is: 0\n"
          ]
        }
      ]
    },
    {
      "cell_type": "code",
      "source": [],
      "metadata": {
        "id": "rrT_LjKxyiub"
      },
      "execution_count": null,
      "outputs": []
    },
    {
      "cell_type": "code",
      "metadata": {
        "colab": {
          "base_uri": "https://localhost:8080/"
        },
        "id": "d55b5aa0",
        "outputId": "0ae7cd52-00c1-4647-f267-d7bd92ee7713"
      },
      "source": [
        "# 13. Create a class Rectangle with methods set_dimensions() to set the dimensions and area() to calculate the\n",
        "# area.\n",
        "\n",
        "class Rectangle:\n",
        "  def __init__(self):\n",
        "    self.length = 0\n",
        "    self.width = 0\n",
        "\n",
        "  def set_dimensions(self, length, width):\n",
        "    self.length = length\n",
        "    self.width = width\n",
        "\n",
        "  def area(self):\n",
        "    return self.length * self.width\n",
        "\n",
        "# Example usage\n",
        "rectangle = Rectangle()\n",
        "rectangle.set_dimensions(5, 10)\n",
        "print(f\"The area of the rectangle is: {rectangle.area()}\")"
      ],
      "execution_count": 17,
      "outputs": [
        {
          "output_type": "stream",
          "name": "stdout",
          "text": [
            "The area of the rectangle is: 50\n"
          ]
        }
      ]
    },
    {
      "cell_type": "code",
      "source": [],
      "metadata": {
        "id": "wOZAsZccymO6"
      },
      "execution_count": null,
      "outputs": []
    },
    {
      "cell_type": "code",
      "metadata": {
        "colab": {
          "base_uri": "https://localhost:8080/"
        },
        "id": "bd8d1dc8",
        "outputId": "e993769d-3690-4a31-9254-6816b1ba81d5"
      },
      "source": [
        "# 14. Create a class Employee with a method calculate_salary() that computes the salary based on hours worked\n",
        "# and hourly rate. Create a derived class Manager that adds a bonus to the salary.\n",
        "\n",
        "class Employee:\n",
        "  def __init__(self, hours_worked, hourly_rate):\n",
        "    self.hours_worked = hours_worked\n",
        "    self.hourly_rate = hourly_rate\n",
        "\n",
        "  def calculate_salary(self):\n",
        "    return self.hours_worked * self.hourly_rate\n",
        "\n",
        "class Manager(Employee):\n",
        "  def __init__(self, hours_worked, hourly_rate, bonus):\n",
        "    super().__init__(hours_worked, hourly_rate)\n",
        "    self.bonus = bonus\n",
        "\n",
        "  def calculate_salary(self):\n",
        "    return super().calculate_salary() + self.bonus\n",
        "\n",
        "# Example usage\n",
        "employee = Employee(40, 20)\n",
        "print(f\"Employee salary: ${employee.calculate_salary()}\")\n",
        "\n",
        "manager = Manager(40, 20, 500)\n",
        "print(f\"Manager salary: ${manager.calculate_salary()}\")"
      ],
      "execution_count": 18,
      "outputs": [
        {
          "output_type": "stream",
          "name": "stdout",
          "text": [
            "Employee salary: $800\n",
            "Manager salary: $1300\n"
          ]
        }
      ]
    },
    {
      "cell_type": "code",
      "source": [],
      "metadata": {
        "id": "giwz4el7y07t"
      },
      "execution_count": null,
      "outputs": []
    },
    {
      "cell_type": "code",
      "metadata": {
        "colab": {
          "base_uri": "https://localhost:8080/"
        },
        "id": "51d91091",
        "outputId": "20d7d042-3ec5-4038-a67b-015724fc5c2f"
      },
      "source": [
        "# 15. Create a class Product with attributes name, price, and quantity. Implement a method total_price() that\n",
        "# calculates the total price of the product.\n",
        "\n",
        "class Product:\n",
        "  def __init__(self, name, price, quantity):\n",
        "    self.name = name\n",
        "    self.price = price\n",
        "    self.quantity = quantity\n",
        "\n",
        "  def total_price(self):\n",
        "    return self.price * self.quantity\n",
        "\n",
        "# Example usage\n",
        "product1 = Product(\"Laptop\", 1200, 1)\n",
        "print(f\"Total price for {product1.name}: ${product1.total_price()}\")\n",
        "\n",
        "product2 = Product(\"Mouse\", 25, 5)\n",
        "print(f\"Total price for {product2.name}: ${product2.total_price()}\")"
      ],
      "execution_count": 19,
      "outputs": [
        {
          "output_type": "stream",
          "name": "stdout",
          "text": [
            "Total price for Laptop: $1200\n",
            "Total price for Mouse: $125\n"
          ]
        }
      ]
    },
    {
      "cell_type": "code",
      "source": [],
      "metadata": {
        "id": "S6CQa5K-y5Jq"
      },
      "execution_count": null,
      "outputs": []
    },
    {
      "cell_type": "code",
      "metadata": {
        "colab": {
          "base_uri": "https://localhost:8080/"
        },
        "id": "1e17c6e9",
        "outputId": "708ab9d1-d522-4f89-c910-21736fcdff5d"
      },
      "source": [
        "# 16. Create a class Animal with an abstract method sound(). Create two derived classes Cow and Sheep that\n",
        "# implement the sound() method.\n",
        "\n",
        "from abc import ABC, abstractmethod\n",
        "\n",
        "class Animal(ABC):\n",
        "  @abstractmethod\n",
        "  def sound(self):\n",
        "    pass\n",
        "\n",
        "class Cow(Animal):\n",
        "  def sound(self):\n",
        "    print(\"Moo\")\n",
        "\n",
        "class Sheep(Animal):\n",
        "  def sound(self):\n",
        "    print(\"Baa\")\n",
        "\n",
        "# Example usage\n",
        "cow = Cow()\n",
        "sheep = Sheep()\n",
        "\n",
        "cow.sound()\n",
        "sheep.sound()"
      ],
      "execution_count": 20,
      "outputs": [
        {
          "output_type": "stream",
          "name": "stdout",
          "text": [
            "Moo\n",
            "Baa\n"
          ]
        }
      ]
    },
    {
      "cell_type": "code",
      "source": [],
      "metadata": {
        "id": "yaPUMHf0zAIp"
      },
      "execution_count": null,
      "outputs": []
    },
    {
      "cell_type": "code",
      "metadata": {
        "colab": {
          "base_uri": "https://localhost:8080/"
        },
        "id": "76051972",
        "outputId": "61ccd398-8040-412e-b6cd-f777eb9845bb"
      },
      "source": [
        "# 17. Create a class Book with attributes title, author, and year_published. Add a method get_book_info() that\n",
        "# returns a formatted string with the book's details.\n",
        "\n",
        "class Book:\n",
        "  def __init__(self, title, author, year_published):\n",
        "    self.title = title\n",
        "    self.author = author\n",
        "    self.year_published = year_published\n",
        "\n",
        "  def get_book_info(self):\n",
        "    return f\"Title: {self.title}, Author: {self.author}, Year Published: {self.year_published}\"\n",
        "\n",
        "# Example usage\n",
        "book1 = Book(\"The Hitchhiker's Guide to the Galaxy\", \"Douglas Adams\", 1979)\n",
        "print(book1.get_book_info())\n",
        "\n",
        "book2 = Book(\"Pride and Prejudice\", \"Jane Austen\", 1813)\n",
        "print(book2.get_book_info())"
      ],
      "execution_count": 21,
      "outputs": [
        {
          "output_type": "stream",
          "name": "stdout",
          "text": [
            "Title: The Hitchhiker's Guide to the Galaxy, Author: Douglas Adams, Year Published: 1979\n",
            "Title: Pride and Prejudice, Author: Jane Austen, Year Published: 1813\n"
          ]
        }
      ]
    },
    {
      "cell_type": "code",
      "source": [],
      "metadata": {
        "id": "yiEpchiizFVO"
      },
      "execution_count": null,
      "outputs": []
    },
    {
      "cell_type": "code",
      "metadata": {
        "colab": {
          "base_uri": "https://localhost:8080/"
        },
        "id": "97621fb7",
        "outputId": "3f33975a-702e-49ff-9e2f-67951bb749c2"
      },
      "source": [
        "# 18. Create a class House with attributes address and price. Create a derived class Mansion that adds an\n",
        "# attribute number_of_rooms.\n",
        "\n",
        "class House:\n",
        "  def __init__(self, address, price):\n",
        "    self.address = address\n",
        "    self.price = price\n",
        "\n",
        "class Mansion(House):\n",
        "  def __init__(self, address, price, number_of_rooms):\n",
        "    super().__init__(address, price)\n",
        "    self.number_of_rooms = number_of_rooms\n",
        "\n",
        "# Example usage\n",
        "house = House(\"123 Main St\", 250000)\n",
        "print(f\"House at {house.address} costs ${house.price}\")\n",
        "\n",
        "mansion = Mansion(\"456 Elm St\", 1500000, 20)\n",
        "print(f\"Mansion at {mansion.address} costs ${mansion.price} and has {mansion.number_of_rooms} rooms\")"
      ],
      "execution_count": 22,
      "outputs": [
        {
          "output_type": "stream",
          "name": "stdout",
          "text": [
            "House at 123 Main St costs $250000\n",
            "Mansion at 456 Elm St costs $1500000 and has 20 rooms\n"
          ]
        }
      ]
    },
    {
      "cell_type": "code",
      "source": [],
      "metadata": {
        "id": "eERzW8KyzLS-"
      },
      "execution_count": null,
      "outputs": []
    }
  ]
}